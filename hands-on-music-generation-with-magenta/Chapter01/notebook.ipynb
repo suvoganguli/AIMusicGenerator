{
 "cells": [
  {
   "cell_type": "markdown",
   "metadata": {},
   "source": [
    "## Chapter 1 - Introduction on Magenta and generative art"
   ]
  },
  {
   "cell_type": "markdown",
   "metadata": {},
   "source": [
    "This chapter doesn't have any code, has it serves as an introduction to the book and an installation procedure."
   ]
  },
  {
   "cell_type": "code",
   "execution_count": 1,
   "metadata": {
    "pycharm": {
     "is_executing": false,
     "name": "#%%\n"
    }
   },
   "outputs": [
    {
     "name": "stderr",
     "output_type": "stream",
     "text": [
     ]
    },
    {
     "name": "stdout",
     "output_type": "stream",
     "text": [
      "Installed tensorflow version 1.14.0\n",
      "Installed magenta version 1.1.2\n"
     ]
    }
   ],
   "source": [
    "import tensorflow\n",
    "import magenta\n",
    "\n",
    "print(\"Installed tensorflow version \" + tensorflow.__version__)\n",
    "print(\"Installed magenta version \" + magenta.__version__)\n"
   ]
  }
 ],
 "metadata": {
  "kernelspec": {
   "display_name": "PyCharm (hands-on-music-generation-with-magenta)",
   "language": "python",
   "name": "pycharm-c3450ad0"
  },
  "language_info": {
   "codemirror_mode": {
    "name": "ipython",
    "version": 3
   },
   "file_extension": ".py",
   "mimetype": "text/x-python",
   "name": "python",
   "nbconvert_exporter": "python",
   "pygments_lexer": "ipython3",
   "version": "3.5.6"
  },
  "pycharm": {
   "stem_cell": {
    "cell_type": "raw",
    "metadata": {
     "collapsed": false
    },
    "source": []
   }
  }
 },
 "nbformat": 4,
 "nbformat_minor": 2
}
