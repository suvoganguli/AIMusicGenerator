{
 "cells": [
  {
   "cell_type": "markdown",
   "metadata": {},
   "source": [
    "## Chapter 3 - Generating polyphonic melodies"
   ]
  },
  {
   "cell_type": "markdown",
   "metadata": {},
   "source": [
    "This example shows a melody (monophonic) generation using the Melody RNN model\n",
    "and 3 configurations: basic, lookback and attention."
   ]
  },
  {
   "cell_type": "markdown",
   "metadata": {},
   "source": [
    "1. First, let's refactor our previous chapter's code into a unique `generate` \n",
    "method. We're also adding a show plot argument to show the generated plot in the\n",
    "browser:"
   ]
  },
  {
   "cell_type": "code",
   "execution_count": 16,
   "metadata": {
    "pycharm": {
     "name": "#%%\n"
    }
   },
   "outputs": [],
   "source": [
    "import math\n",
    "import os\n",
    "import time\n",
    "\n",
    "import magenta.music as mm\n",
    "from magenta.models.melody_rnn import melody_rnn_sequence_generator\n",
    "from magenta.music import DEFAULT_QUARTERS_PER_MINUTE\n",
    "from magenta.protobuf.generator_pb2 import GeneratorOptions\n",
    "from magenta.protobuf.music_pb2 import NoteSequence\n",
    "from visual_midi import Plotter\n",
    "\n",
    "\n",
    "def generate(bundle_name: str,\n",
    "             sequence_generator,\n",
    "             generator_id: str,\n",
    "             primer_filename: str = None,\n",
    "             qpm: float = DEFAULT_QUARTERS_PER_MINUTE,\n",
    "             total_length_steps: int = 64,\n",
    "             temperature: float = 1.0,\n",
    "             beam_size: int = 1,\n",
    "             branch_factor: int = 1,\n",
    "             steps_per_iteration: int = 1,\n",
    "             show_plot: bool = False) -> NoteSequence:\n",
    "    \"\"\"Generates and returns a new sequence given the sequence generator.\n",
    "  \n",
    "    Uses the bundle name to download the bundle in the \"bundles\" directory if it\n",
    "    doesn't already exist, then uses the sequence generator and the generator id\n",
    "    to get the generator. Parameters can be provided for the generation phase.\n",
    "    The MIDI and plot files are written to disk in the \"output\" folder, with the\n",
    "    filename pattern \"<generator_name>_<generator_id>_<date_time>\" with \"mid\" or\n",
    "    \"html\" respectively.\n",
    "  \n",
    "        :param bundle_name: The bundle name to be downloaded and generated with.\n",
    "  \n",
    "        :param sequence_generator: The sequence generator module, which is the\n",
    "        python module in the corresponding models subfolder.\n",
    "  \n",
    "        :param generator_id: The id of the generator configuration, this is the\n",
    "        model's configuration.\n",
    "  \n",
    "        :param primer_filename: The filename for the primer, which will be taken\n",
    "        from the \"primers\" directory. If left empty, and empty note sequence \n",
    "        will be used.\n",
    "  \n",
    "        :param qpm: The QPM for the generated sequence. If a primer is provided,\n",
    "        the primer QPM will be used and this parameter ignored.\n",
    "  \n",
    "        :param total_length_steps: The total length of the sequence, which\n",
    "        contains the added length of the primer and the generated sequence\n",
    "        together. This value need to be bigger than the primer length in bars.\n",
    "  \n",
    "        :param temperature: The temperature value for the generation algorithm,\n",
    "        lesser than 1 is less random (closer to the primer), bigger than 1 is\n",
    "        more random\n",
    "  \n",
    "        :param beam_size: The beam size for the generation algorithm, a bigger\n",
    "        branch size means the generation algorithm will generate more sequence\n",
    "        each iteration, meaning a less random sequence at the cost of more time.\n",
    "  \n",
    "        :param branch_factor: The branch factor for the generation algorithm,\n",
    "        a bigger branch factor means the generation algorithm will keep more\n",
    "        sequence candidates at each iteration, meaning a less random sequence\n",
    "        at the cost of more time.\n",
    "  \n",
    "        :param steps_per_iteration: The number of steps the generation algorithm\n",
    "        generates at each iteration, a bigger steps per iteration meaning there\n",
    "        are less iterations in total because more steps gets generated each \n",
    "        time.\n",
    "        \n",
    "        :param show_plot: Shows the plot in the browser.\n",
    "  \n",
    "        :returns The generated NoteSequence\n",
    "    \"\"\"\n",
    "  \n",
    "    # Downloads the bundle from the magenta website, a bundle (.mag file) is a\n",
    "    # trained model that is used by magenta\n",
    "    mm.notebook_utils.download_bundle(bundle_name, \"bundles\")\n",
    "    bundle = mm.sequence_generator_bundle.read_bundle_file(\n",
    "        os.path.join(\"bundles\", bundle_name))\n",
    "  \n",
    "    # Initialize the generator from the generator id, this need to fit the\n",
    "    # bundle we downloaded before, and choose the model's configuration.\n",
    "    generator_map = sequence_generator.get_generator_map()\n",
    "    generator = generator_map[generator_id](checkpoint=None, bundle=bundle)\n",
    "    generator.initialize()\n",
    "  \n",
    "    # Gets the primer sequence that is fed into the model for the generator,\n",
    "    # which will generate a sequence based on this one.\n",
    "    # If no primer sequence is given, the primer sequence is initialized\n",
    "    # to an empty note sequence\n",
    "    if primer_filename:\n",
    "        primer_sequence = mm.midi_io.midi_file_to_note_sequence(\n",
    "          os.path.join(\"primers\", primer_filename))\n",
    "    else:\n",
    "        primer_sequence = NoteSequence()\n",
    "  \n",
    "    # Gets the QPM from the primer sequence. If it wasn't provided, take the\n",
    "    # parameters that defaults to Magenta's default\n",
    "    if primer_sequence.tempos:\n",
    "        if len(primer_sequence.tempos) > 1:\n",
    "          raise Exception(\"No support for multiple tempos\")\n",
    "        qpm = primer_sequence.tempos[0].qpm\n",
    "  \n",
    "    # Calculates the seconds per 1 step, which changes depending on the QPM \n",
    "    # value (steps per quarter in generators are mostly 4)\n",
    "    seconds_per_step = 60.0 / qpm / getattr(generator, \"steps_per_quarter\", 4)\n",
    "  \n",
    "    # Calculates the primer sequence length in steps and time by taking the\n",
    "    # total time (which is the end of the last note) and finding the next step\n",
    "    # start time.\n",
    "    primer_sequence_length_steps = math.ceil(primer_sequence.total_time\n",
    "                                             / seconds_per_step)\n",
    "    primer_sequence_length_time = (primer_sequence_length_steps \n",
    "                                   * seconds_per_step)\n",
    "  \n",
    "    # Calculates the start and the end of the primer sequence.\n",
    "    # We add a negative delta to the end, because if we don't some generators\n",
    "    # won't start the generation right at the beginning of the bar, they will\n",
    "    # start at the next step, meaning we'll have a small gap between the primer\n",
    "    # and the generated sequence.\n",
    "    primer_end_adjust = (0.00001 if primer_sequence_length_time > 0 else 0)\n",
    "    primer_start_time = 0\n",
    "    primer_end_time = (primer_start_time\n",
    "                       + primer_sequence_length_time\n",
    "                       - primer_end_adjust)\n",
    "  \n",
    "    # Calculates the generation time by taking the total time and substracting\n",
    "    # the primer time. The resulting generation time needs to be bigger than \n",
    "    # zero.\n",
    "    generation_length_steps = total_length_steps - primer_sequence_length_steps\n",
    "    if generation_length_steps <= 0:\n",
    "        raise Exception(\"Total length in steps too small \"\n",
    "                        + \"(\" + str(total_length_steps) + \")\"\n",
    "                        + \", needs to be at least one bar bigger than primer \"\n",
    "                        + \"(\" + str(primer_sequence_length_steps) + \")\")\n",
    "    generation_length_time = generation_length_steps * seconds_per_step\n",
    "  \n",
    "    # Calculates the generate start and end time, the start time will contain\n",
    "    # the previously added negative delta from the primer end time.\n",
    "    # We remove the generation end time delta to end the generation\n",
    "    # on the last bar.\n",
    "    generation_start_time = primer_end_time\n",
    "    generation_end_time = (generation_start_time\n",
    "                           + generation_length_time\n",
    "                           + primer_end_adjust)\n",
    "  \n",
    "    # Showtime\n",
    "    print(\"Primer time: [\"\n",
    "          + str(primer_start_time) + \", \"\n",
    "          + str(primer_end_time) + \"]\")\n",
    "    print(\"Generation time: [\"\n",
    "          + str(generation_start_time) + \", \"\n",
    "          + str(generation_end_time) + \"]\")\n",
    "  \n",
    "    # Pass the given parameters, the generator options are common for all \n",
    "    # models\n",
    "    generator_options = GeneratorOptions()\n",
    "    generator_options.args['temperature'].float_value = temperature\n",
    "    generator_options.args['beam_size'].int_value = beam_size\n",
    "    generator_options.args['branch_factor'].int_value = branch_factor\n",
    "    generator_options.args['steps_per_iteration'].int_value = (\n",
    "        steps_per_iteration)\n",
    "    generator_options.generate_sections.add(\n",
    "        start_time=generation_start_time,\n",
    "        end_time=generation_end_time)\n",
    "  \n",
    "    # Generates the sequence, add add the time signature\n",
    "    # back to the generated sequence\n",
    "    sequence = generator.generate(primer_sequence, generator_options)\n",
    "  \n",
    "    # Writes the resulting midi file to the output directory\n",
    "    date_and_time = time.strftime('%Y-%m-%d_%H%M%S')\n",
    "    generator_name = str(generator.__class__).split(\".\")[2]\n",
    "    midi_filename = \"%s_%s_%s.mid\" % (generator_name, generator_id,\n",
    "                                      date_and_time)\n",
    "    midi_path = os.path.join(\"output\", midi_filename)\n",
    "    mm.midi_io.note_sequence_to_midi_file(sequence, midi_path)\n",
    "    print(\"Generated midi file: \" + str(os.path.abspath(midi_path)))\n",
    "  \n",
    "    # Writes the resulting plot file to the output directory\n",
    "    date_and_time = time.strftime('%Y-%m-%d_%H%M%S')\n",
    "    generator_name = str(generator.__class__).split(\".\")[2]\n",
    "    plot_filename = \"%s_%s_%s.html\" % (generator_name, generator_id,\n",
    "                                       date_and_time)\n",
    "    plot_path = os.path.join(\"output\", plot_filename)\n",
    "    pretty_midi = mm.midi_io.note_sequence_to_pretty_midi(sequence)\n",
    "    plotter = Plotter()\n",
    "    if show_plot:\n",
    "        plotter.show(pretty_midi, plot_path)\n",
    "    else:\n",
    "        plotter.save(pretty_midi, plot_path)\n",
    "    print(\"Generated plot file: \" + str(os.path.abspath(plot_path)))\n",
    "  \n",
    "    return sequence"
   ]
  },
  {
   "cell_type": "markdown",
   "metadata": {},
   "source": [
    "2. Then, let's call it using the \"basic_rnn\" configuration:"
   ]
  },
  {
   "cell_type": "code",
   "execution_count": 17,
   "metadata": {},
   "outputs": [
    {
     "name": "stderr",
     "output_type": "stream",
     "text": []
    },
    {
     "name": "stdout",
     "output_type": "stream",
     "text": [
      "Primer time: [0, 1.6463307499999995]\n",
      "Generation time: [1.6463307499999995, 5.853655999999998]\n",
      "Generated midi file: /home/alex/Project/hands-on-music-generation-with-magenta/Chapter03/output/melody_rnn_basic_rnn_2019-09-11_124619.mid\n",
      "Generated plot file: /home/alex/Project/hands-on-music-generation-with-magenta/Chapter03/output/melody_rnn_basic_rnn_2019-09-11_124619.html\n"
     ]
    }
   ],
   "source": [
    "# Calling the sequence generator with the basic RNN configuration. The\n",
    "# generated output won't have much of the primer in it, since it has a\n",
    "# hard time remembering past events.\n",
    "sequence = generate(\n",
    "    \"basic_rnn.mag\",\n",
    "    melody_rnn_sequence_generator,\n",
    "    \"basic_rnn\",\n",
    "    primer_filename=\"Fur_Elisa_Beethoveen_Monophonic.mid\",\n",
    "    total_length_steps=32,\n",
    "    temperature=0.9,\n",
    "    show_plot=True)"
   ]
  },
  {
   "cell_type": "markdown",
   "metadata": {},
   "source": [
    "Here is an example of a generated sequence: \n",
    "![Melody RNN basic configuration](docs/img/melody_rnn_basic_01.png)"
   ]
  },
  {
   "cell_type": "markdown",
   "metadata": {},
   "source": [
    "3. Let's try the \"lookback_rnn\" configuration:"
   ]
  },
  {
   "cell_type": "code",
   "execution_count": 20,
   "metadata": {},
   "outputs": [
    {
     "name": "stderr",
     "output_type": "stream",
     "text": []
    },
    {
     "name": "stdout",
     "output_type": "stream",
     "text": [
      "Primer time: [0, 1.6463307499999995]\n",
      "Generation time: [1.6463307499999995, 11.707311999999995]\n",
      "Generated midi file: /home/alex/Project/hands-on-music-generation-with-magenta/Chapter03/output/melody_rnn_lookback_rnn_2019-09-11_124859.mid\n",
      "Generated plot file: /home/alex/Project/hands-on-music-generation-with-magenta/Chapter03/output/melody_rnn_lookback_rnn_2019-09-11_124859.html\n"
     ]
    }
   ],
   "source": [
    "# Calling the sequence generator with the lookback RNN configuration. The\n",
    "# generated output will carry the musical structure of the primer on 2 bars\n",
    "# (which is the lookback distance).\n",
    "sequence = generate(\n",
    "    \"lookback_rnn.mag\",\n",
    "    melody_rnn_sequence_generator,\n",
    "    \"lookback_rnn\",\n",
    "    primer_filename=\"Fur_Elisa_Beethoveen_Monophonic.mid\",\n",
    "    total_length_steps=64,\n",
    "    temperature=1.1,\n",
    "    show_plot = True)"
   ]
  },
  {
   "cell_type": "markdown",
   "metadata": {},
   "source": [
    "Here is an example of a generated sequence: \n",
    "![Melody RNN lookback configuration](docs/img/melody_rnn_lookback_01.png)"
   ]
  },
  {
   "cell_type": "markdown",
   "metadata": {},
   "source": [
    "4. Let's try the \"attention_rnn\" configuration:"
   ]
  },
  {
   "cell_type": "code",
   "execution_count": 22,
   "metadata": {},
   "outputs": [
    {
     "name": "stderr",
     "output_type": "stream",
     "text": []
    },
    {
     "name": "stdout",
     "output_type": "stream",
     "text": [
      "Primer time: [0, 1.6463307499999995]\n",
      "Generation time: [1.6463307499999995, 23.414623999999993]\n",
      "Generated midi file: /home/alex/Project/hands-on-music-generation-with-magenta/Chapter03/output/melody_rnn_attention_rnn_2019-09-11_125125.mid\n",
      "Generated plot file: /home/alex/Project/hands-on-music-generation-with-magenta/Chapter03/output/melody_rnn_attention_rnn_2019-09-11_125125.html\n"
     ]
    }
   ],
   "source": [
    "# Calling the sequence generator with the attention RNN configuration. The\n",
    "# generated output will carry the musical structure of the primer.\n",
    "sequence = generate(\n",
    "    \"attention_rnn.mag\",\n",
    "    melody_rnn_sequence_generator,\n",
    "    \"attention_rnn\",\n",
    "    primer_filename=\"Fur_Elisa_Beethoveen_Monophonic.mid\",\n",
    "    total_length_steps=128,\n",
    "    temperature=1.1,\n",
    "    show_plot=True)"
   ]
  },
  {
   "cell_type": "markdown",
   "metadata": {},
   "source": [
    "Here is an example of a generated sequence: \n",
    "![Melody RNN attention configuration](docs/img/melody_rnn_attention_01.png)"
   ]
  }
 ],
 "metadata": {
  "kernelspec": {
   "display_name": "PyCharm (hands-on-music-generation-with-magenta)",
   "language": "python",
   "name": "pycharm-c3450ad0"
  },
  "language_info": {
   "codemirror_mode": {
    "name": "ipython",
    "version": 3
   },
   "file_extension": ".py",
   "mimetype": "text/x-python",
   "name": "python",
   "nbconvert_exporter": "python",
   "pygments_lexer": "ipython3",
   "version": "3.5.6"
  },
  "pycharm": {
   "stem_cell": {
    "cell_type": "raw",
    "source": [],
    "metadata": {
     "collapsed": false
    }
   }
  }
 },
 "nbformat": 4,
 "nbformat_minor": 2
}