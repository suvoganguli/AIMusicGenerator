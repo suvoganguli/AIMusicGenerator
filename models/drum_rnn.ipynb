{
 "cells": [
  {
   "cell_type": "code",
   "execution_count": 1,
   "id": "1feb11ee-6476-4465-82a2-f34871ee85f0",
   "metadata": {},
   "outputs": [
    {
     "name": "stderr",
     "output_type": "stream",
     "text": [
      "2024-12-19 10:49:41.319064: I tensorflow/core/platform/cpu_feature_guard.cc:182] This TensorFlow binary is optimized to use available CPU instructions in performance-critical operations.\n",
      "To enable the following instructions: SSE4.1 SSE4.2 AVX AVX2 FMA, in other operations, rebuild TensorFlow with the appropriate compiler flags.\n"
     ]
    }
   ],
   "source": [
    "import numpy as np\n",
    "import tensorflow as tf\n",
    "from tensorflow.keras.models import Sequential\n",
    "from tensorflow.keras.layers import LSTM, Dense, Dropout, Bidirectional\n"
   ]
  },
  {
   "cell_type": "code",
   "execution_count": 2,
   "id": "d0866fab-117e-467c-a79f-cc523a51c16e",
   "metadata": {},
   "outputs": [
    {
     "name": "stdout",
     "output_type": "stream",
     "text": [
      "Patterns generated.\n",
      "Generated pattern:\n",
      "[[[1. 0. 1.]\n",
      "  [0. 0. 1.]\n",
      "  [0. 1. 1.]\n",
      "  ...\n",
      "  [0. 0. 1.]\n",
      "  [0. 1. 1.]\n",
      "  [0. 0. 1.]]\n",
      "\n",
      " [[1. 0. 1.]\n",
      "  [0. 0. 1.]\n",
      "  [0. 1. 1.]\n",
      "  ...\n",
      "  [0. 0. 1.]\n",
      "  [0. 1. 1.]\n",
      "  [0. 0. 1.]]\n",
      "\n",
      " [[1. 0. 1.]\n",
      "  [0. 0. 1.]\n",
      "  [0. 1. 1.]\n",
      "  ...\n",
      "  [0. 0. 1.]\n",
      "  [0. 1. 1.]\n",
      "  [0. 0. 1.]]\n",
      "\n",
      " ...\n",
      "\n",
      " [[1. 0. 1.]\n",
      "  [0. 0. 1.]\n",
      "  [0. 1. 1.]\n",
      "  ...\n",
      "  [0. 0. 1.]\n",
      "  [0. 1. 1.]\n",
      "  [0. 0. 1.]]\n",
      "\n",
      " [[1. 0. 1.]\n",
      "  [0. 0. 1.]\n",
      "  [0. 1. 1.]\n",
      "  ...\n",
      "  [0. 0. 1.]\n",
      "  [0. 1. 1.]\n",
      "  [0. 0. 1.]]\n",
      "\n",
      " [[1. 0. 1.]\n",
      "  [0. 0. 1.]\n",
      "  [0. 1. 1.]\n",
      "  ...\n",
      "  [0. 0. 1.]\n",
      "  [0. 1. 1.]\n",
      "  [0. 0. 1.]]]\n",
      "Data split into training, validation, and test sets.\n",
      "Shapes after split: X_train: (600, 31, 3), y_train: (600, 31, 3), X_val: (200, 31, 3), y_val: (200, 31, 3), X_test: (200, 31, 3), y_test: (200, 31, 3)\n",
      "Training dataset prepared.\n"
     ]
    }
   ],
   "source": [
    "import importlib\n",
    "import drum_pattern_generator  # Replace with your module name\n",
    "importlib.reload(drum_pattern_generator)\n",
    "\n",
    "generator = drum_pattern_generator.DrumPatternGenerator()\n",
    "data = generator.generate_patterns()\n",
    "\n",
    "X_train, X_val, X_test, y_train, y_val, y_test = generator.split_data()\n",
    "train_loader = generator.prepare_dataset(X_train, y_train)\n"
   ]
  },
  {
   "cell_type": "code",
   "execution_count": 3,
   "id": "87605487-4361-41a8-ac7c-c92ad52054bb",
   "metadata": {},
   "outputs": [
    {
     "name": "stdout",
     "output_type": "stream",
     "text": [
      "Train Hit Ratio: 0.4946\n",
      "Validation Hit Ratio: 0.4946\n"
     ]
    }
   ],
   "source": [
    "print(f\"Train Hit Ratio: {np.sum(y_train) / np.prod(y_train.shape):.4f}\")\n",
    "print(f\"Validation Hit Ratio: {np.sum(y_val) / np.prod(y_val.shape):.4f}\")\n"
   ]
  },
  {
   "cell_type": "code",
   "execution_count": 4,
   "id": "0a1b9819-d90d-454f-9eb5-bac2d1e5464f",
   "metadata": {},
   "outputs": [
    {
     "name": "stderr",
     "output_type": "stream",
     "text": [
      "2024-12-19 10:50:02.231319: I tensorflow/core/common_runtime/executor.cc:1197] [/device:CPU:0] (DEBUG INFO) Executor start aborting (this does not indicate an error and you can ignore this message): INVALID_ARGUMENT: You must feed a value for placeholder tensor 'gradients/split_2_grad/concat/split_2/split_dim' with dtype int32\n",
      "\t [[{{node gradients/split_2_grad/concat/split_2/split_dim}}]]\n",
      "2024-12-19 10:50:02.233793: I tensorflow/core/common_runtime/executor.cc:1197] [/device:CPU:0] (DEBUG INFO) Executor start aborting (this does not indicate an error and you can ignore this message): INVALID_ARGUMENT: You must feed a value for placeholder tensor 'gradients/split_grad/concat/split/split_dim' with dtype int32\n",
      "\t [[{{node gradients/split_grad/concat/split/split_dim}}]]\n",
      "2024-12-19 10:50:02.235826: I tensorflow/core/common_runtime/executor.cc:1197] [/device:CPU:0] (DEBUG INFO) Executor start aborting (this does not indicate an error and you can ignore this message): INVALID_ARGUMENT: You must feed a value for placeholder tensor 'gradients/split_1_grad/concat/split_1/split_dim' with dtype int32\n",
      "\t [[{{node gradients/split_1_grad/concat/split_1/split_dim}}]]\n"
     ]
    },
    {
     "name": "stdout",
     "output_type": "stream",
     "text": [
      "Model: \"model\"\n",
      "__________________________________________________________________________________________________\n"
     ]
    },
    {
     "name": "stderr",
     "output_type": "stream",
     "text": [
      "2024-12-19 10:50:02.447488: I tensorflow/core/common_runtime/executor.cc:1197] [/device:CPU:0] (DEBUG INFO) Executor start aborting (this does not indicate an error and you can ignore this message): INVALID_ARGUMENT: You must feed a value for placeholder tensor 'gradients/ReverseV2_grad/ReverseV2/ReverseV2/axis' with dtype int32 and shape [1]\n",
      "\t [[{{node gradients/ReverseV2_grad/ReverseV2/ReverseV2/axis}}]]\n",
      "2024-12-19 10:50:02.542185: I tensorflow/core/common_runtime/executor.cc:1197] [/device:CPU:0] (DEBUG INFO) Executor start aborting (this does not indicate an error and you can ignore this message): INVALID_ARGUMENT: You must feed a value for placeholder tensor 'gradients/split_2_grad/concat/split_2/split_dim' with dtype int32\n",
      "\t [[{{node gradients/split_2_grad/concat/split_2/split_dim}}]]\n",
      "2024-12-19 10:50:02.544574: I tensorflow/core/common_runtime/executor.cc:1197] [/device:CPU:0] (DEBUG INFO) Executor start aborting (this does not indicate an error and you can ignore this message): INVALID_ARGUMENT: You must feed a value for placeholder tensor 'gradients/split_grad/concat/split/split_dim' with dtype int32\n",
      "\t [[{{node gradients/split_grad/concat/split/split_dim}}]]\n",
      "2024-12-19 10:50:02.547266: I tensorflow/core/common_runtime/executor.cc:1197] [/device:CPU:0] (DEBUG INFO) Executor start aborting (this does not indicate an error and you can ignore this message): INVALID_ARGUMENT: You must feed a value for placeholder tensor 'gradients/split_1_grad/concat/split_1/split_dim' with dtype int32\n",
      "\t [[{{node gradients/split_1_grad/concat/split_1/split_dim}}]]\n"
     ]
    },
    {
     "name": "stdout",
     "output_type": "stream",
     "text": [
      " Layer (type)                   Output Shape         Param #     Connected to                     \n",
      "==================================================================================================\n",
      " input_1 (InputLayer)           [(None, 31, 3)]      0           []                               \n",
      "                                                                                                  \n",
      " conv1d (Conv1D)                (None, 31, 64)       640         ['input_1[0][0]']                \n",
      "                                                                                                  \n",
      " bidirectional (Bidirectional)  (None, 31, 256)      197632      ['conv1d[0][0]']                 \n",
      "                                                                                                  \n",
      " dropout (Dropout)              (None, 31, 256)      0           ['bidirectional[0][0]']          \n",
      "                                                                                                  \n",
      " attention (Attention)          (None, 31, 256)      0           ['dropout[0][0]',                \n",
      "                                                                  'dropout[0][0]']                \n",
      "                                                                                                  \n",
      " dense (Dense)                  (None, 31, 3)        771         ['attention[0][0]']              \n",
      "                                                                                                  \n",
      "==================================================================================================\n",
      "Total params: 199,043\n",
      "Trainable params: 199,043\n",
      "Non-trainable params: 0\n",
      "__________________________________________________________________________________________________\n",
      "Epoch 1/20\n"
     ]
    },
    {
     "name": "stderr",
     "output_type": "stream",
     "text": [
      "2024-12-19 10:50:03.183615: I tensorflow/core/common_runtime/executor.cc:1197] [/device:CPU:0] (DEBUG INFO) Executor start aborting (this does not indicate an error and you can ignore this message): INVALID_ARGUMENT: You must feed a value for placeholder tensor 'gradients/split_2_grad/concat/split_2/split_dim' with dtype int32\n",
      "\t [[{{node gradients/split_2_grad/concat/split_2/split_dim}}]]\n",
      "2024-12-19 10:50:03.186124: I tensorflow/core/common_runtime/executor.cc:1197] [/device:CPU:0] (DEBUG INFO) Executor start aborting (this does not indicate an error and you can ignore this message): INVALID_ARGUMENT: You must feed a value for placeholder tensor 'gradients/split_grad/concat/split/split_dim' with dtype int32\n",
      "\t [[{{node gradients/split_grad/concat/split/split_dim}}]]\n",
      "2024-12-19 10:50:03.188306: I tensorflow/core/common_runtime/executor.cc:1197] [/device:CPU:0] (DEBUG INFO) Executor start aborting (this does not indicate an error and you can ignore this message): INVALID_ARGUMENT: You must feed a value for placeholder tensor 'gradients/split_1_grad/concat/split_1/split_dim' with dtype int32\n",
      "\t [[{{node gradients/split_1_grad/concat/split_1/split_dim}}]]\n",
      "2024-12-19 10:50:03.420835: I tensorflow/core/common_runtime/executor.cc:1197] [/device:CPU:0] (DEBUG INFO) Executor start aborting (this does not indicate an error and you can ignore this message): INVALID_ARGUMENT: You must feed a value for placeholder tensor 'gradients/ReverseV2_grad/ReverseV2/ReverseV2/axis' with dtype int32 and shape [1]\n",
      "\t [[{{node gradients/ReverseV2_grad/ReverseV2/ReverseV2/axis}}]]\n",
      "2024-12-19 10:50:03.510042: I tensorflow/core/common_runtime/executor.cc:1197] [/device:CPU:0] (DEBUG INFO) Executor start aborting (this does not indicate an error and you can ignore this message): INVALID_ARGUMENT: You must feed a value for placeholder tensor 'gradients/split_2_grad/concat/split_2/split_dim' with dtype int32\n",
      "\t [[{{node gradients/split_2_grad/concat/split_2/split_dim}}]]\n",
      "2024-12-19 10:50:03.512498: I tensorflow/core/common_runtime/executor.cc:1197] [/device:CPU:0] (DEBUG INFO) Executor start aborting (this does not indicate an error and you can ignore this message): INVALID_ARGUMENT: You must feed a value for placeholder tensor 'gradients/split_grad/concat/split/split_dim' with dtype int32\n",
      "\t [[{{node gradients/split_grad/concat/split/split_dim}}]]\n",
      "2024-12-19 10:50:03.514619: I tensorflow/core/common_runtime/executor.cc:1197] [/device:CPU:0] (DEBUG INFO) Executor start aborting (this does not indicate an error and you can ignore this message): INVALID_ARGUMENT: You must feed a value for placeholder tensor 'gradients/split_1_grad/concat/split_1/split_dim' with dtype int32\n",
      "\t [[{{node gradients/split_1_grad/concat/split_1/split_dim}}]]\n",
      "2024-12-19 10:50:04.374873: I tensorflow/core/common_runtime/executor.cc:1197] [/device:CPU:0] (DEBUG INFO) Executor start aborting (this does not indicate an error and you can ignore this message): INVALID_ARGUMENT: You must feed a value for placeholder tensor 'gradients/ReverseV2_grad/ReverseV2/ReverseV2/axis' with dtype int32 and shape [1]\n",
      "\t [[{{node gradients/ReverseV2_grad/ReverseV2/ReverseV2/axis}}]]\n",
      "2024-12-19 10:50:05.499973: I tensorflow/core/common_runtime/executor.cc:1197] [/device:CPU:0] (DEBUG INFO) Executor start aborting (this does not indicate an error and you can ignore this message): INVALID_ARGUMENT: You must feed a value for placeholder tensor 'gradients/split_2_grad/concat/split_2/split_dim' with dtype int32\n",
      "\t [[{{node gradients/split_2_grad/concat/split_2/split_dim}}]]\n",
      "2024-12-19 10:50:05.503168: I tensorflow/core/common_runtime/executor.cc:1197] [/device:CPU:0] (DEBUG INFO) Executor start aborting (this does not indicate an error and you can ignore this message): INVALID_ARGUMENT: You must feed a value for placeholder tensor 'gradients/split_grad/concat/split/split_dim' with dtype int32\n",
      "\t [[{{node gradients/split_grad/concat/split/split_dim}}]]\n",
      "2024-12-19 10:50:05.506425: I tensorflow/core/common_runtime/executor.cc:1197] [/device:CPU:0] (DEBUG INFO) Executor start aborting (this does not indicate an error and you can ignore this message): INVALID_ARGUMENT: You must feed a value for placeholder tensor 'gradients/split_1_grad/concat/split_1/split_dim' with dtype int32\n",
      "\t [[{{node gradients/split_1_grad/concat/split_1/split_dim}}]]\n",
      "2024-12-19 10:50:05.782933: I tensorflow/core/common_runtime/executor.cc:1197] [/device:CPU:0] (DEBUG INFO) Executor start aborting (this does not indicate an error and you can ignore this message): INVALID_ARGUMENT: You must feed a value for placeholder tensor 'gradients/ReverseV2_grad/ReverseV2/ReverseV2/axis' with dtype int32 and shape [1]\n",
      "\t [[{{node gradients/ReverseV2_grad/ReverseV2/ReverseV2/axis}}]]\n",
      "2024-12-19 10:50:05.871902: I tensorflow/core/common_runtime/executor.cc:1197] [/device:CPU:0] (DEBUG INFO) Executor start aborting (this does not indicate an error and you can ignore this message): INVALID_ARGUMENT: You must feed a value for placeholder tensor 'gradients/split_2_grad/concat/split_2/split_dim' with dtype int32\n",
      "\t [[{{node gradients/split_2_grad/concat/split_2/split_dim}}]]\n",
      "2024-12-19 10:50:05.873923: I tensorflow/core/common_runtime/executor.cc:1197] [/device:CPU:0] (DEBUG INFO) Executor start aborting (this does not indicate an error and you can ignore this message): INVALID_ARGUMENT: You must feed a value for placeholder tensor 'gradients/split_grad/concat/split/split_dim' with dtype int32\n",
      "\t [[{{node gradients/split_grad/concat/split/split_dim}}]]\n",
      "2024-12-19 10:50:05.875810: I tensorflow/core/common_runtime/executor.cc:1197] [/device:CPU:0] (DEBUG INFO) Executor start aborting (this does not indicate an error and you can ignore this message): INVALID_ARGUMENT: You must feed a value for placeholder tensor 'gradients/split_1_grad/concat/split_1/split_dim' with dtype int32\n",
      "\t [[{{node gradients/split_1_grad/concat/split_1/split_dim}}]]\n",
      "2024-12-19 10:50:06.836912: I tensorflow/core/common_runtime/executor.cc:1197] [/device:CPU:0] (DEBUG INFO) Executor start aborting (this does not indicate an error and you can ignore this message): INVALID_ARGUMENT: You must feed a value for placeholder tensor 'gradients/ReverseV2_grad/ReverseV2/ReverseV2/axis' with dtype int32 and shape [1]\n",
      "\t [[{{node gradients/ReverseV2_grad/ReverseV2/ReverseV2/axis}}]]\n",
      "2024-12-19 10:50:07.692768: W tensorflow/core/grappler/costs/op_level_cost_estimator.cc:690] Error in PredictCost() for the op: op: \"Softmax\" attr { key: \"T\" value { type: DT_FLOAT } } inputs { dtype: DT_FLOAT shape { unknown_rank: true } } device { type: \"CPU\" vendor: \"GenuineIntel\" model: \"110\" frequency: 2400 num_cores: 8 environment { key: \"cpu_instruction_set\" value: \"SSE, SSE2, SSE3, SSSE3\" } environment { key: \"eigen\" value: \"3.4.90\" } l1_cache_size: 32768 l2_cache_size: 262144 l3_cache_size: 6291456 memory_size: 268435456 } outputs { dtype: DT_FLOAT shape { unknown_rank: true } }\n"
     ]
    },
    {
     "name": "stdout",
     "output_type": "stream",
     "text": [
      "37/38 [============================>.] - ETA: 0s - loss: 0.4067 - accuracy: 0.5083 - precision: 1.0000 - recall: 0.6193"
     ]
    },
    {
     "name": "stderr",
     "output_type": "stream",
     "text": [
      "2024-12-19 10:50:10.092453: I tensorflow/core/common_runtime/executor.cc:1197] [/device:CPU:0] (DEBUG INFO) Executor start aborting (this does not indicate an error and you can ignore this message): INVALID_ARGUMENT: You must feed a value for placeholder tensor 'gradients/split_2_grad/concat/split_2/split_dim' with dtype int32\n",
      "\t [[{{node gradients/split_2_grad/concat/split_2/split_dim}}]]\n",
      "2024-12-19 10:50:10.094734: I tensorflow/core/common_runtime/executor.cc:1197] [/device:CPU:0] (DEBUG INFO) Executor start aborting (this does not indicate an error and you can ignore this message): INVALID_ARGUMENT: You must feed a value for placeholder tensor 'gradients/split_grad/concat/split/split_dim' with dtype int32\n",
      "\t [[{{node gradients/split_grad/concat/split/split_dim}}]]\n",
      "2024-12-19 10:50:10.096486: I tensorflow/core/common_runtime/executor.cc:1197] [/device:CPU:0] (DEBUG INFO) Executor start aborting (this does not indicate an error and you can ignore this message): INVALID_ARGUMENT: You must feed a value for placeholder tensor 'gradients/split_1_grad/concat/split_1/split_dim' with dtype int32\n",
      "\t [[{{node gradients/split_1_grad/concat/split_1/split_dim}}]]\n",
      "2024-12-19 10:50:10.298803: I tensorflow/core/common_runtime/executor.cc:1197] [/device:CPU:0] (DEBUG INFO) Executor start aborting (this does not indicate an error and you can ignore this message): INVALID_ARGUMENT: You must feed a value for placeholder tensor 'gradients/ReverseV2_grad/ReverseV2/ReverseV2/axis' with dtype int32 and shape [1]\n",
      "\t [[{{node gradients/ReverseV2_grad/ReverseV2/ReverseV2/axis}}]]\n",
      "2024-12-19 10:50:10.379734: I tensorflow/core/common_runtime/executor.cc:1197] [/device:CPU:0] (DEBUG INFO) Executor start aborting (this does not indicate an error and you can ignore this message): INVALID_ARGUMENT: You must feed a value for placeholder tensor 'gradients/split_2_grad/concat/split_2/split_dim' with dtype int32\n",
      "\t [[{{node gradients/split_2_grad/concat/split_2/split_dim}}]]\n",
      "2024-12-19 10:50:10.381573: I tensorflow/core/common_runtime/executor.cc:1197] [/device:CPU:0] (DEBUG INFO) Executor start aborting (this does not indicate an error and you can ignore this message): INVALID_ARGUMENT: You must feed a value for placeholder tensor 'gradients/split_grad/concat/split/split_dim' with dtype int32\n",
      "\t [[{{node gradients/split_grad/concat/split/split_dim}}]]\n",
      "2024-12-19 10:50:10.383166: I tensorflow/core/common_runtime/executor.cc:1197] [/device:CPU:0] (DEBUG INFO) Executor start aborting (this does not indicate an error and you can ignore this message): INVALID_ARGUMENT: You must feed a value for placeholder tensor 'gradients/split_1_grad/concat/split_1/split_dim' with dtype int32\n",
      "\t [[{{node gradients/split_1_grad/concat/split_1/split_dim}}]]\n",
      "2024-12-19 10:50:10.781498: W tensorflow/core/grappler/costs/op_level_cost_estimator.cc:690] Error in PredictCost() for the op: op: \"Softmax\" attr { key: \"T\" value { type: DT_FLOAT } } inputs { dtype: DT_FLOAT shape { unknown_rank: true } } device { type: \"CPU\" vendor: \"GenuineIntel\" model: \"110\" frequency: 2400 num_cores: 8 environment { key: \"cpu_instruction_set\" value: \"SSE, SSE2, SSE3, SSSE3\" } environment { key: \"eigen\" value: \"3.4.90\" } l1_cache_size: 32768 l2_cache_size: 262144 l3_cache_size: 6291456 memory_size: 268435456 } outputs { dtype: DT_FLOAT shape { unknown_rank: true } }\n"
     ]
    },
    {
     "name": "stdout",
     "output_type": "stream",
     "text": [
      "38/38 [==============================] - 8s 73ms/step - loss: 0.4060 - accuracy: 0.5084 - precision: 1.0000 - recall: 0.6200 - val_loss: 0.3686 - val_accuracy: 0.5161 - val_precision: 1.0000 - val_recall: 0.6739\n",
      "Epoch 2/20\n",
      "38/38 [==============================] - 2s 46ms/step - loss: 0.2483 - accuracy: 0.5161 - precision: 1.0000 - recall: 0.6739 - val_loss: 0.0778 - val_accuracy: 0.5161 - val_precision: 1.0000 - val_recall: 0.6739\n",
      "Epoch 3/20\n",
      "38/38 [==============================] - 2s 44ms/step - loss: 0.0187 - accuracy: 0.5161 - precision: 1.0000 - recall: 0.6739 - val_loss: 0.0024 - val_accuracy: 0.5161 - val_precision: 1.0000 - val_recall: 0.6739\n",
      "Epoch 4/20\n",
      "38/38 [==============================] - 2s 42ms/step - loss: 0.0016 - accuracy: 0.5161 - precision: 1.0000 - recall: 0.6739 - val_loss: 9.0269e-04 - val_accuracy: 0.5161 - val_precision: 1.0000 - val_recall: 0.6739\n",
      "Epoch 5/20\n",
      "38/38 [==============================] - 2s 43ms/step - loss: 8.2718e-04 - accuracy: 0.5161 - precision: 1.0000 - recall: 0.6739 - val_loss: 6.1225e-04 - val_accuracy: 0.5161 - val_precision: 1.0000 - val_recall: 0.6739\n",
      "Epoch 6/20\n",
      "38/38 [==============================] - 2s 40ms/step - loss: 6.0150e-04 - accuracy: 0.5161 - precision: 1.0000 - recall: 0.6739 - val_loss: 4.7182e-04 - val_accuracy: 0.5161 - val_precision: 1.0000 - val_recall: 0.6739\n",
      "Epoch 7/20\n",
      "38/38 [==============================] - 1s 37ms/step - loss: 4.7578e-04 - accuracy: 0.5161 - precision: 1.0000 - recall: 0.6739 - val_loss: 3.8046e-04 - val_accuracy: 0.5161 - val_precision: 1.0000 - val_recall: 0.6739\n",
      "Epoch 8/20\n",
      "38/38 [==============================] - 1s 38ms/step - loss: 3.8899e-04 - accuracy: 0.5161 - precision: 1.0000 - recall: 0.6739 - val_loss: 3.1549e-04 - val_accuracy: 0.5161 - val_precision: 1.0000 - val_recall: 0.6739\n",
      "Epoch 9/20\n",
      "38/38 [==============================] - 2s 39ms/step - loss: 3.2752e-04 - accuracy: 0.5161 - precision: 1.0000 - recall: 0.6739 - val_loss: 2.6676e-04 - val_accuracy: 0.5161 - val_precision: 1.0000 - val_recall: 0.6739\n",
      "Epoch 10/20\n",
      "38/38 [==============================] - 2s 41ms/step - loss: 2.7826e-04 - accuracy: 0.5161 - precision: 1.0000 - recall: 0.6739 - val_loss: 2.2932e-04 - val_accuracy: 0.5161 - val_precision: 1.0000 - val_recall: 0.6739\n",
      "Epoch 11/20\n",
      "38/38 [==============================] - 2s 41ms/step - loss: 2.4064e-04 - accuracy: 0.5161 - precision: 1.0000 - recall: 0.6739 - val_loss: 1.9966e-04 - val_accuracy: 0.5161 - val_precision: 1.0000 - val_recall: 0.6739\n",
      "Epoch 12/20\n",
      "38/38 [==============================] - 2s 41ms/step - loss: 2.1203e-04 - accuracy: 0.5161 - precision: 1.0000 - recall: 0.6739 - val_loss: 1.7564e-04 - val_accuracy: 0.5161 - val_precision: 1.0000 - val_recall: 0.6739\n",
      "Epoch 13/20\n",
      "38/38 [==============================] - 2s 41ms/step - loss: 1.8652e-04 - accuracy: 0.5161 - precision: 1.0000 - recall: 0.6739 - val_loss: 1.5598e-04 - val_accuracy: 0.5161 - val_precision: 1.0000 - val_recall: 0.6739\n",
      "Epoch 14/20\n",
      "38/38 [==============================] - 1s 39ms/step - loss: 1.6684e-04 - accuracy: 0.5161 - precision: 1.0000 - recall: 0.6739 - val_loss: 1.3964e-04 - val_accuracy: 0.5161 - val_precision: 1.0000 - val_recall: 0.6739\n",
      "Epoch 15/20\n",
      "38/38 [==============================] - 2s 45ms/step - loss: 1.5086e-04 - accuracy: 0.5161 - precision: 1.0000 - recall: 0.6739 - val_loss: 1.2578e-04 - val_accuracy: 0.5161 - val_precision: 1.0000 - val_recall: 0.6739\n",
      "Epoch 16/20\n",
      "38/38 [==============================] - 2s 43ms/step - loss: 1.3566e-04 - accuracy: 0.5161 - precision: 1.0000 - recall: 0.6739 - val_loss: 1.1408e-04 - val_accuracy: 0.5161 - val_precision: 1.0000 - val_recall: 0.6739\n",
      "Epoch 17/20\n",
      "38/38 [==============================] - 2s 41ms/step - loss: 1.2320e-04 - accuracy: 0.5161 - precision: 1.0000 - recall: 0.6739 - val_loss: 1.0401e-04 - val_accuracy: 0.5161 - val_precision: 1.0000 - val_recall: 0.6739\n",
      "Epoch 18/20\n",
      "38/38 [==============================] - 2s 43ms/step - loss: 1.1303e-04 - accuracy: 0.5161 - precision: 1.0000 - recall: 0.6739 - val_loss: 9.5261e-05 - val_accuracy: 0.5161 - val_precision: 1.0000 - val_recall: 0.6739\n",
      "Epoch 19/20\n",
      "38/38 [==============================] - 1s 39ms/step - loss: 1.0378e-04 - accuracy: 0.5161 - precision: 1.0000 - recall: 0.6739 - val_loss: 8.7633e-05 - val_accuracy: 0.5161 - val_precision: 1.0000 - val_recall: 0.6739\n",
      "Epoch 20/20\n",
      "38/38 [==============================] - 2s 44ms/step - loss: 9.5494e-05 - accuracy: 0.5161 - precision: 1.0000 - recall: 0.6739 - val_loss: 8.0929e-05 - val_accuracy: 0.5161 - val_precision: 1.0000 - val_recall: 0.6739\n"
     ]
    }
   ],
   "source": [
    "from tensorflow.keras.layers import Attention, Input, Conv1D, Dropout, Bidirectional, LSTM, Dense\n",
    "from tensorflow.keras.models import Model\n",
    "from tensorflow.keras.metrics import Precision, Recall\n",
    "\n",
    "# Sequence length\n",
    "sequence_length = (generator.sequence_length - 1)\n",
    "num_drums = generator.num_drums\n",
    "\n",
    "# Define the input layer\n",
    "input_layer = Input(shape=(sequence_length, num_drums))\n",
    "\n",
    "# Add a convolutional layer\n",
    "conv_output = Conv1D(filters=64, kernel_size=3, activation='relu', padding='same')(input_layer)\n",
    "\n",
    "# Add a Bidirectional LSTM layer\n",
    "lstm_output = Bidirectional(LSTM(128, return_sequences=True))(conv_output)\n",
    "\n",
    "# Add a dropout layer\n",
    "lstm_output = Dropout(0.1)(lstm_output)\n",
    "\n",
    "# Add an attention layer\n",
    "attention = Attention()([lstm_output, lstm_output])\n",
    "\n",
    "# Add a dense output layer\n",
    "output_layer = Dense(num_drums, activation='softmax')(attention)\n",
    "\n",
    "# Create the model\n",
    "model = Model(inputs=input_layer, outputs=output_layer)\n",
    "\n",
    "# Compile the model\n",
    "from tensorflow.keras.metrics import Precision, Recall\n",
    "\n",
    "# Compile the model with precision and recall\n",
    "model.compile(optimizer='adam', loss='binary_crossentropy', metrics=['accuracy', Precision(), Recall()])\n",
    "model.summary()\n",
    "\n",
    "# Train the model\n",
    "history = model.fit(\n",
    "    X_train, y_train,                    # Training data\n",
    "    epochs=20,                           # Number of epochs\n",
    "    batch_size=16,                       # Batch size\n",
    "    validation_data=(X_val, y_val),      # Validation data\n",
    "    verbose=1                            # Display progress\n",
    ")\n"
   ]
  },
  {
   "cell_type": "code",
   "execution_count": 5,
   "id": "c4b85e9c-50f3-47e8-a720-ea44b5e11113",
   "metadata": {},
   "outputs": [
    {
     "name": "stderr",
     "output_type": "stream",
     "text": [
      "2024-12-19 10:50:51.967091: I tensorflow/core/common_runtime/executor.cc:1197] [/device:CPU:0] (DEBUG INFO) Executor start aborting (this does not indicate an error and you can ignore this message): INVALID_ARGUMENT: You must feed a value for placeholder tensor 'gradients/split_2_grad/concat/split_2/split_dim' with dtype int32\n",
      "\t [[{{node gradients/split_2_grad/concat/split_2/split_dim}}]]\n",
      "2024-12-19 10:50:51.969457: I tensorflow/core/common_runtime/executor.cc:1197] [/device:CPU:0] (DEBUG INFO) Executor start aborting (this does not indicate an error and you can ignore this message): INVALID_ARGUMENT: You must feed a value for placeholder tensor 'gradients/split_grad/concat/split/split_dim' with dtype int32\n",
      "\t [[{{node gradients/split_grad/concat/split/split_dim}}]]\n",
      "2024-12-19 10:50:51.971262: I tensorflow/core/common_runtime/executor.cc:1197] [/device:CPU:0] (DEBUG INFO) Executor start aborting (this does not indicate an error and you can ignore this message): INVALID_ARGUMENT: You must feed a value for placeholder tensor 'gradients/split_1_grad/concat/split_1/split_dim' with dtype int32\n",
      "\t [[{{node gradients/split_1_grad/concat/split_1/split_dim}}]]\n",
      "2024-12-19 10:50:52.187727: I tensorflow/core/common_runtime/executor.cc:1197] [/device:CPU:0] (DEBUG INFO) Executor start aborting (this does not indicate an error and you can ignore this message): INVALID_ARGUMENT: You must feed a value for placeholder tensor 'gradients/ReverseV2_grad/ReverseV2/ReverseV2/axis' with dtype int32 and shape [1]\n",
      "\t [[{{node gradients/ReverseV2_grad/ReverseV2/ReverseV2/axis}}]]\n",
      "2024-12-19 10:50:52.287556: I tensorflow/core/common_runtime/executor.cc:1197] [/device:CPU:0] (DEBUG INFO) Executor start aborting (this does not indicate an error and you can ignore this message): INVALID_ARGUMENT: You must feed a value for placeholder tensor 'gradients/split_2_grad/concat/split_2/split_dim' with dtype int32\n",
      "\t [[{{node gradients/split_2_grad/concat/split_2/split_dim}}]]\n",
      "2024-12-19 10:50:52.289629: I tensorflow/core/common_runtime/executor.cc:1197] [/device:CPU:0] (DEBUG INFO) Executor start aborting (this does not indicate an error and you can ignore this message): INVALID_ARGUMENT: You must feed a value for placeholder tensor 'gradients/split_grad/concat/split/split_dim' with dtype int32\n",
      "\t [[{{node gradients/split_grad/concat/split/split_dim}}]]\n",
      "2024-12-19 10:50:52.292119: I tensorflow/core/common_runtime/executor.cc:1197] [/device:CPU:0] (DEBUG INFO) Executor start aborting (this does not indicate an error and you can ignore this message): INVALID_ARGUMENT: You must feed a value for placeholder tensor 'gradients/split_1_grad/concat/split_1/split_dim' with dtype int32\n",
      "\t [[{{node gradients/split_1_grad/concat/split_1/split_dim}}]]\n"
     ]
    },
    {
     "name": "stdout",
     "output_type": "stream",
     "text": [
      "\r",
      "1/7 [===>..........................] - ETA: 6s"
     ]
    },
    {
     "name": "stderr",
     "output_type": "stream",
     "text": [
      "2024-12-19 10:50:52.463595: W tensorflow/core/grappler/costs/op_level_cost_estimator.cc:690] Error in PredictCost() for the op: op: \"Softmax\" attr { key: \"T\" value { type: DT_FLOAT } } inputs { dtype: DT_FLOAT shape { unknown_rank: true } } device { type: \"CPU\" vendor: \"GenuineIntel\" model: \"110\" frequency: 2400 num_cores: 8 environment { key: \"cpu_instruction_set\" value: \"SSE, SSE2, SSE3, SSSE3\" } environment { key: \"eigen\" value: \"3.4.90\" } l1_cache_size: 32768 l2_cache_size: 262144 l3_cache_size: 6291456 memory_size: 268435456 } outputs { dtype: DT_FLOAT shape { unknown_rank: true } }\n"
     ]
    },
    {
     "name": "stdout",
     "output_type": "stream",
     "text": [
      "7/7 [==============================] - 1s 31ms/step\n",
      "Precision: 1.0\n",
      "Recall: 0.6739130434782609\n",
      "F1 Score: 0.8051948051948052\n"
     ]
    }
   ],
   "source": [
    "from sklearn.metrics import precision_score, recall_score, f1_score\n",
    "\n",
    "y_pred_binary = (model.predict(X_val) > 0.5).astype(int)\n",
    "print(\"Precision:\", precision_score(y_val.flatten(), y_pred_binary.flatten()))\n",
    "print(\"Recall:\", recall_score(y_val.flatten(), y_pred_binary.flatten()))\n",
    "print(\"F1 Score:\", f1_score(y_val.flatten(), y_pred_binary.flatten()))\n"
   ]
  },
  {
   "cell_type": "code",
   "execution_count": 8,
   "id": "d325cbb4-2035-48a6-907f-c96b0cbc02fc",
   "metadata": {},
   "outputs": [
    {
     "name": "stdout",
     "output_type": "stream",
     "text": [
      "1/1 [==============================] - 0s 42ms/step\n"
     ]
    },
    {
     "data": {
      "image/png": "[encoded data removed]",
      "text/plain": [
       "<Figure size 640x480 with 1 Axes>"
      ]
     },
     "metadata": {},
     "output_type": "display_data"
    },
    {
     "data": {
      "image/png": "[encoded data removed]",
      "text/plain": [
       "<Figure size 640x480 with 1 Axes>"
      ]
     },
     "metadata": {},
     "output_type": "display_data"
    }
   ],
   "source": [
    "import matplotlib.pyplot as plt\n",
    "\n",
    "y_pred = model.predict(X_train[:5])\n",
    "y_pred_binary = np.where(y_pred > 0.005, 1, 0)\n",
    "plt.imshow(y_pred_binary[0].T, cmap='binary', aspect='auto')\n",
    "plt.title(\"Predicted Pattern\")\n",
    "plt.show()\n",
    "\n",
    "plt.imshow(y_train[0].T, cmap='binary', aspect='auto')\n",
    "plt.title(\"Ground Truth\")\n",
    "plt.show()\n",
    "\n",
    "# print(y_pred_binary[0])\n",
    "# print(y_train[0])\n"
   ]
  },
  {
   "cell_type": "code",
   "execution_count": 7,
   "id": "12de232f-b172-4984-b288-41cc74346696",
   "metadata": {},
   "outputs": [
    {
     "name": "stdout",
     "output_type": "stream",
     "text": [
      "1/1 [==============================] - 0s 41ms/step\n"
     ]
    },
    {
     "data": {
      "image/png": "[encoded data removed]",
      "text/plain": [
       "<Figure size 640x480 with 2 Axes>"
      ]
     },
     "metadata": {},
     "output_type": "display_data"
    },
    {
     "data": {
      "image/png": "[encoded data removed]",
      "text/plain": [
       "<Figure size 640x480 with 2 Axes>"
      ]
     },
     "metadata": {},
     "output_type": "display_data"
    },
    {
     "data": {
      "image/png": "[encoded data removed]",
      "text/plain": [
       "<Figure size 640x480 with 2 Axes>"
      ]
     },
     "metadata": {},
     "output_type": "display_data"
    },
    {
     "data": {
      "image/png": "[encoded data removed]",
      "text/plain": [
       "<Figure size 640x480 with 2 Axes>"
      ]
     },
     "metadata": {},
     "output_type": "display_data"
    },
    {
     "data": {
      "image/png": "[encoded data removed]",
      "text/plain": [
       "<Figure size 640x480 with 2 Axes>"
      ]
     },
     "metadata": {},
     "output_type": "display_data"
    }
   ],
   "source": [
    "import matplotlib.pyplot as plt\n",
    "\n",
    "# Compare predictions with ground truth\n",
    "y_pred = model.predict(X_train[:5])\n",
    "\n",
    "for i in range(5):\n",
    "    plt.subplot(2, 1, 1)\n",
    "    plt.imshow(y_train[i].T, cmap='binary', aspect='auto')\n",
    "    plt.title('Ground Truth')\n",
    "\n",
    "    plt.subplot(2, 1, 2)\n",
    "    plt.imshow(y_pred[i].T > 0.005, cmap='binary', aspect='auto')\n",
    "    plt.title('Predicted')\n",
    "    plt.show()\n"
   ]
  },
  {
   "cell_type": "code",
   "execution_count": 9,
   "id": "1f4174e7-91c7-49c7-8fb8-74113b5ac80a",
   "metadata": {},
   "outputs": [
    {
     "name": "stdout",
     "output_type": "stream",
     "text": [
      "7/7 [==============================] - 0s 26ms/step\n",
      "Validation F1-Score: 0.8051948051948052\n"
     ]
    }
   ],
   "source": [
    "from sklearn.metrics import f1_score\n",
    "\n",
    "y_val_pred = model.predict(X_val)\n",
    "print(\"Validation F1-Score:\", f1_score(y_val.flatten(), (y_val_pred > 0.5).flatten()))\n"
   ]
  },
  {
   "cell_type": "code",
   "execution_count": 10,
   "id": "9d4380da-c391-4c4e-972c-d377eea51397",
   "metadata": {},
   "outputs": [
    {
     "name": "stdout",
     "output_type": "stream",
     "text": [
      "Primer with Randomness:\n",
      "[[1. 0. 1.]\n",
      " [1. 0. 0.]\n",
      " [1. 0. 0.]\n",
      " [0. 0. 1.]\n",
      " [0. 0. 1.]\n",
      " [0. 0. 0.]\n",
      " [1. 0. 1.]\n",
      " [0. 0. 0.]\n",
      " [0. 1. 1.]\n",
      " [0. 0. 0.]\n",
      " [0. 0. 0.]\n",
      " [0. 0. 0.]\n",
      " [0. 0. 1.]\n",
      " [0. 0. 0.]\n",
      " [0. 0. 0.]\n",
      " [0. 0. 0.]\n",
      " [1. 0. 1.]\n",
      " [1. 0. 0.]\n",
      " [1. 0. 0.]\n",
      " [0. 0. 1.]\n",
      " [0. 0. 1.]\n",
      " [0. 0. 0.]\n",
      " [1. 0. 1.]\n",
      " [0. 0. 0.]\n",
      " [0. 1. 1.]\n",
      " [0. 0. 0.]\n",
      " [0. 0. 0.]\n",
      " [0. 0. 0.]\n",
      " [0. 0. 1.]\n",
      " [0. 0. 0.]\n",
      " [0. 0. 0.]\n",
      " [0. 0. 0.]]\n"
     ]
    }
   ],
   "source": [
    "import numpy as np\n",
    "\n",
    "sequence_length = 32  # Total sequence length\n",
    "num_drums = 3  # Number of drum types\n",
    "notes_per_measure = 16  # Number of notes in each measure\n",
    "\n",
    "# Define the base pattern\n",
    "base_pattern = np.array([\n",
    "    [1.0, 0.0, 1.0],  # Kick + Hi-Hat\n",
    "    [0.0, 0.0, 1.0],  # Hi-Hat only\n",
    "    [0.0, 1.0, 1.0],  # Snare + Hi-Hat\n",
    "    [0.0, 0.0, 1.0]   # Hi-Hat only\n",
    "])\n",
    "\n",
    "# Create an empty measure with all zeros\n",
    "measure = np.zeros((notes_per_measure, num_drums))\n",
    "\n",
    "# Distribute the pattern within the measure\n",
    "step_interval = notes_per_measure // len(base_pattern)  # Spacing between pattern notes\n",
    "for i, note in enumerate(base_pattern):\n",
    "    measure[i * step_interval] = note  # Place the pattern note at the calculated interval\n",
    "\n",
    "# Introduce randomness: Probabilistic activation of additional drum hits\n",
    "randomness_probability = 0.1  # Probability of adding a random hit\n",
    "for step in measure:\n",
    "    for drum_idx in range(num_drums):\n",
    "        if np.random.rand() < randomness_probability:\n",
    "            step[drum_idx] = 1.0  # Randomly activate a drum hit\n",
    "\n",
    "# Repeat the measure to fill the sequence length\n",
    "num_measures = sequence_length // notes_per_measure\n",
    "primer = np.tile(measure, (num_measures, 1))  # Repeat the measure\n",
    "\n",
    "# Reshape to match the expected input dimensions\n",
    "primer = primer[np.newaxis, :, :]  # Add a batch dimension\n",
    "\n",
    "print(\"Primer with Randomness:\")\n",
    "print(primer[0])\n",
    "\n"
   ]
  },
  {
   "cell_type": "code",
   "execution_count": 11,
   "id": "2b96543f-6fb6-4568-9fe9-22fcf085276a",
   "metadata": {},
   "outputs": [
    {
     "name": "stdout",
     "output_type": "stream",
     "text": [
      "Generated Sequence:\n",
      "[[1. 0. 1.]\n",
      " [0. 0. 0.]\n",
      " [1. 0. 0.]\n",
      " [0. 0. 1.]\n",
      " [0. 0. 1.]\n",
      " [0. 0. 0.]\n",
      " [1. 0. 1.]\n",
      " [0. 0. 0.]\n",
      " [0. 1. 1.]\n",
      " [0. 0. 0.]\n",
      " [0. 0. 0.]\n",
      " [0. 0. 0.]\n",
      " [0. 0. 0.]\n",
      " [0. 0. 0.]\n",
      " [0. 0. 0.]\n",
      " [0. 0. 0.]\n",
      " [1. 0. 1.]\n",
      " [1. 0. 0.]\n",
      " [0. 0. 0.]\n",
      " [0. 0. 1.]\n",
      " [0. 0. 1.]\n",
      " [0. 0. 0.]\n",
      " [1. 0. 1.]\n",
      " [0. 0. 0.]\n",
      " [0. 0. 1.]\n",
      " [0. 0. 0.]\n",
      " [0. 0. 0.]\n",
      " [0. 0. 0.]\n",
      " [0. 0. 0.]\n",
      " [0. 0. 0.]\n",
      " [0. 0. 0.]\n",
      " [0. 0. 0.]\n",
      " [1. 0. 1.]\n",
      " [1. 0. 0.]\n",
      " [1. 0. 0.]\n",
      " [0. 0. 0.]\n",
      " [0. 0. 1.]\n",
      " [0. 0. 0.]\n",
      " [1. 0. 1.]\n",
      " [0. 0. 0.]\n",
      " [0. 1. 1.]\n",
      " [0. 0. 0.]\n",
      " [0. 0. 0.]\n",
      " [0. 0. 0.]\n",
      " [0. 0. 1.]\n",
      " [0. 0. 0.]\n",
      " [0. 0. 0.]\n",
      " [0. 0. 0.]\n",
      " [1. 0. 1.]\n",
      " [1. 0. 0.]\n",
      " [1. 0. 0.]\n",
      " [0. 0. 1.]\n",
      " [0. 0. 1.]\n",
      " [0. 0. 0.]\n",
      " [1. 0. 0.]\n",
      " [0. 0. 0.]\n",
      " [0. 1. 0.]\n",
      " [0. 0. 0.]\n",
      " [0. 0. 0.]\n",
      " [0. 0. 0.]\n",
      " [0. 0. 1.]\n",
      " [0. 0. 0.]\n",
      " [0. 0. 0.]\n",
      " [0. 0. 0.]\n",
      " [0. 0. 0.]\n",
      " [1. 0. 0.]\n",
      " [0. 0. 0.]\n",
      " [0. 0. 1.]\n",
      " [0. 0. 1.]\n",
      " [0. 0. 0.]\n",
      " [1. 0. 1.]\n",
      " [0. 0. 0.]\n",
      " [0. 0. 1.]\n",
      " [0. 0. 0.]\n",
      " [0. 0. 0.]\n",
      " [0. 0. 0.]\n",
      " [0. 0. 1.]\n",
      " [0. 0. 0.]\n",
      " [0. 0. 0.]\n",
      " [0. 0. 0.]\n",
      " [1. 0. 1.]\n",
      " [1. 0. 0.]\n",
      " [1. 0. 0.]\n",
      " [0. 0. 0.]\n",
      " [0. 0. 1.]\n",
      " [0. 0. 0.]\n",
      " [0. 0. 1.]\n",
      " [0. 0. 0.]\n",
      " [0. 0. 1.]\n",
      " [0. 0. 0.]\n",
      " [0. 0. 0.]\n",
      " [0. 0. 0.]\n",
      " [0. 0. 1.]\n",
      " [0. 0. 0.]\n",
      " [0. 0. 0.]\n",
      " [0. 0. 0.]\n",
      " [1. 0. 1.]\n",
      " [1. 0. 0.]\n",
      " [0. 0. 0.]\n",
      " [0. 0. 1.]\n",
      " [0. 0. 1.]\n",
      " [0. 0. 0.]\n",
      " [0. 0. 1.]\n",
      " [0. 0. 0.]\n",
      " [0. 0. 1.]\n",
      " [0. 0. 0.]\n",
      " [0. 0. 0.]\n",
      " [0. 0. 0.]\n",
      " [0. 0. 1.]\n",
      " [0. 0. 0.]\n",
      " [0. 0. 0.]\n",
      " [0. 0. 0.]\n",
      " [0. 0. 1.]\n",
      " [1. 0. 0.]\n",
      " [1. 0. 0.]\n",
      " [0. 0. 0.]\n",
      " [0. 0. 1.]\n",
      " [0. 0. 0.]\n",
      " [0. 0. 1.]\n",
      " [0. 0. 0.]\n",
      " [0. 1. 1.]\n",
      " [0. 0. 0.]\n",
      " [0. 0. 0.]\n",
      " [0. 0. 0.]\n",
      " [0. 0. 1.]\n",
      " [0. 0. 0.]\n",
      " [0. 0. 0.]\n",
      " [0. 0. 0.]]\n",
      "128\n"
     ]
    }
   ],
   "source": [
    "# Extend the primer as the initial context\n",
    "context_length = sequence_length * 2  # Use two repetitions of the primer\n",
    "extended_primer = np.tile(primer, (1, 2, 1))[:, :context_length, :]  # Extend and trim to context length\n",
    "generated_sequence = extended_primer.copy()  # Initialize the generated sequence with the extended primer\n",
    "\n",
    "# Generate a longer drum sequence\n",
    "measures_to_generate = 4  # Number of measures to generate\n",
    "beats_per_measure = 4  # 4 beats per measure\n",
    "steps_per_beat = sequence_length // beats_per_measure  # Steps per beat\n",
    "steps_to_generate = measures_to_generate * beats_per_measure * steps_per_beat\n",
    "\n",
    "for step_idx in range(steps_to_generate):\n",
    "    # Predict the next step\n",
    "    prediction = model.predict(generated_sequence[:, -31:, :], verbose=0)  # Match the expected input shape\n",
    "\n",
    "    # Apply temperature scaling\n",
    "    def apply_temperature(logits, temperature=1.0):\n",
    "        exp_logits = np.exp(logits / temperature)\n",
    "        return exp_logits / np.sum(exp_logits, axis=-1, keepdims=True)\n",
    "\n",
    "    # Use low temperatures for minimal randomness\n",
    "    temperatures = np.array([1, 1, 1.2])  # Slightly more randomness for hi-hats\n",
    "    scaled_probs = np.exp(prediction[:, -1, :] / temperatures) / np.sum(\n",
    "        np.exp(prediction[:, -1, :] / temperatures), axis=-1, keepdims=True\n",
    "    )\n",
    "\n",
    "    # Add continuity bias\n",
    "    continuity_bias = np.array([0.1, 0.1, 0.05])  # Encourage repetition for kick/snare\n",
    "    prev_step = generated_sequence[:, -1, :]\n",
    "    adjusted_probs = scaled_probs + continuity_bias * prev_step\n",
    "    adjusted_probs = np.clip(adjusted_probs, 0, 1)\n",
    "\n",
    "    # Add strong primer influence\n",
    "    primer_influence = 0.5 #max(0.4 - (step_idx / steps_to_generate) * 0.3, 0.1)\n",
    "    primer_step = primer[:, step_idx % sequence_length, :]  # Cycle through primer pattern\n",
    "    adjusted_probs = adjusted_probs * (1 - primer_influence) + primer_step * primer_influence\n",
    "    adjusted_probs = np.clip(adjusted_probs, 0.1, 1)  # Ensure strong adherence to primer\n",
    "\n",
    "    # Apply deterministic thresholds\n",
    "    thresholds = np.array([0.3, 0.3, 0.4])  # Strong thresholds to ensure stable outputs\n",
    "    next_step_deterministic = (adjusted_probs > thresholds).astype(int)\n",
    "    next_step_probabilistic = np.random.binomial(1, adjusted_probs)\n",
    "\n",
    "    # Combine deterministic and probabilistic outputs\n",
    "    deterministic_weight = 0.5  # Favor deterministic predictions\n",
    "    combined_probs = deterministic_weight * next_step_deterministic + (1 - deterministic_weight) * next_step_probabilistic\n",
    "    next_step = (combined_probs > 0.5).astype(int)\n",
    "\n",
    "    # Append the next step to the generated sequence\n",
    "    generated_sequence = np.concatenate([generated_sequence, next_step[:, np.newaxis, :]], axis=1)\n",
    "\n",
    "# Remove the primer if not needed\n",
    "generated_sequence = generated_sequence[:, context_length - 1:, :]\n",
    "\n",
    "# Adjust to ensure full measures (optional)\n",
    "total_steps = measures_to_generate * steps_per_beat * beats_per_measure\n",
    "generated_sequence = generated_sequence[:, :total_steps, :]  # Trim to fit exact measure count\n",
    "\n",
    "# Line-up with primer\n",
    "generated_sequence = np.roll(generated_sequence, shift=-1, axis=1)\n",
    "\n",
    "print(\"Generated Sequence:\")\n",
    "print(generated_sequence[0])\n",
    "print(len(generated_sequence[0]))\n"
   ]
  },
  {
   "cell_type": "code",
   "execution_count": 12,
   "id": "3276d3ca-adcf-4109-98bb-19e83aedf91f",
   "metadata": {},
   "outputs": [
    {
     "name": "stdout",
     "output_type": "stream",
     "text": [
      "\n",
      "Note-by-Note Comparison (Primer vs Generated):\n",
      "Time Step | Primer                  | Generated Sequence\n",
      "-------------------------------------------------------\n",
      "0         | [1. 0. 1.] | [1 0 1]\n",
      "1         | [1. 0. 0.] | [0 0 0]\n",
      "2         | [1. 0. 0.] | [1 0 0]\n",
      "3         | [0. 0. 1.] | [0 0 1]\n",
      "4         | [0. 0. 1.] | [0 0 1]\n",
      "5         | [0. 0. 0.] | [0 0 0]\n",
      "6         | [1. 0. 1.] | [1 0 1]\n",
      "7         | [0. 0. 0.] | [0 0 0]\n",
      "8         | [0. 1. 1.] | [0 1 1]\n",
      "9         | [0. 0. 0.] | [0 0 0]\n",
      "10        | [0. 0. 0.] | [0 0 0]\n",
      "11        | [0. 0. 0.] | [0 0 0]\n",
      "12        | [0. 0. 1.] | [0 0 0]\n",
      "13        | [0. 0. 0.] | [0 0 0]\n",
      "14        | [0. 0. 0.] | [0 0 0]\n",
      "15        | [0. 0. 0.] | [0 0 0]\n",
      "16        | [1. 0. 1.] | [1 0 1]\n",
      "17        | [1. 0. 0.] | [1 0 0]\n",
      "18        | [1. 0. 0.] | [0 0 0]\n",
      "19        | [0. 0. 1.] | [0 0 1]\n",
      "20        | [0. 0. 1.] | [0 0 1]\n",
      "21        | [0. 0. 0.] | [0 0 0]\n",
      "22        | [1. 0. 1.] | [1 0 1]\n",
      "23        | [0. 0. 0.] | [0 0 0]\n",
      "24        | [0. 1. 1.] | [0 0 1]\n",
      "25        | [0. 0. 0.] | [0 0 0]\n",
      "26        | [0. 0. 0.] | [0 0 0]\n",
      "27        | [0. 0. 0.] | [0 0 0]\n",
      "28        | [0. 0. 1.] | [0 0 0]\n",
      "29        | [0. 0. 0.] | [0 0 0]\n",
      "30        | [0. 0. 0.] | [0 0 0]\n",
      "31        | [0. 0. 0.] | [0 0 0]\n",
      "\n",
      "Comparison Metrics:\n",
      "Total Mismatches: 5\n",
      "Overall Similarity: 77.27%\n",
      "Similarity per Drum Type:\n",
      "  Drum 1: 75.0%\n",
      "  Drum 2: 50.0%\n",
      "  Drum 3: 83.33%\n"
     ]
    }
   ],
   "source": [
    "def compare_sequences(primer, generated_sequence):\n",
    "    if primer.shape[2] != generated_sequence.shape[2]:\n",
    "        raise ValueError(\"Primer and generated sequence must have the same number of drum types.\")\n",
    "\n",
    "    # Align sequences to the shortest length\n",
    "    min_length = min(primer.shape[1], generated_sequence.shape[1])\n",
    "    aligned_primer = primer[:, :min_length, :]\n",
    "    aligned_generated = generated_sequence[:, :min_length, :]\n",
    "\n",
    "    # Ensure sequences are binary\n",
    "    aligned_generated = (aligned_generated > 0.5).astype(int)\n",
    "\n",
    "    # Calculate differences (consider only active notes in the primer)\n",
    "    active_notes = aligned_primer == 1  # Mask for active notes in the primer\n",
    "    mismatches = np.logical_and(active_notes, aligned_primer != aligned_generated)\n",
    "    total_mismatches = np.sum(mismatches)\n",
    "\n",
    "    # Total active notes in the primer\n",
    "    total_active_notes = np.sum(active_notes)\n",
    "    if total_active_notes == 0:\n",
    "        print(\"Error: Primer has no active notes to compare.\")\n",
    "        return {\"error\": \"Primer has no active notes to compare.\"}\n",
    "\n",
    "    # Calculate overall similarity\n",
    "    overall_similarity = (1 - (total_mismatches / total_active_notes)) * 100\n",
    "\n",
    "    # Calculate similarity per drum type\n",
    "    drum_similarities = []\n",
    "    for drum_idx in range(primer.shape[2]):\n",
    "        active_notes_drum = active_notes[:, :, drum_idx]\n",
    "        mismatches_drum = mismatches[:, :, drum_idx]\n",
    "        total_active_notes_drum = np.sum(active_notes_drum)\n",
    "        if total_active_notes_drum > 0:\n",
    "            similarity_drum = 1 - (np.sum(mismatches_drum) / total_active_notes_drum)\n",
    "            drum_similarities.append(round(similarity_drum * 100, 2))\n",
    "        else:\n",
    "            drum_similarities.append(\"N/A\")  # No active notes for this drum\n",
    "\n",
    "    # Print note-by-note comparison\n",
    "    print(\"\\nNote-by-Note Comparison (Primer vs Generated):\")\n",
    "    print(\"Time Step | Primer                  | Generated Sequence\")\n",
    "    print(\"-------------------------------------------------------\")\n",
    "    for t in range(min_length):\n",
    "        primer_note = aligned_primer[0, t]\n",
    "        generated_note = aligned_generated[0, t]\n",
    "        print(f\"{t:<9} | {primer_note} | {generated_note}\")\n",
    "\n",
    "    return {\n",
    "        \"total_mismatches\": int(total_mismatches),\n",
    "        \"overall_similarity\": round(overall_similarity, 2),\n",
    "        \"similarity_per_drum\": drum_similarities\n",
    "    }\n",
    "\n",
    "# Compare primer and generated sequence\n",
    "metrics = compare_sequences(primer, generated_sequence)\n",
    "print(\"\\nComparison Metrics:\")\n",
    "print(f\"Total Mismatches: {metrics['total_mismatches']}\")\n",
    "print(f\"Overall Similarity: {metrics['overall_similarity']}%\")\n",
    "print(\"Similarity per Drum Type:\")\n",
    "for i, similarity in enumerate(metrics[\"similarity_per_drum\"], start=1):\n",
    "    print(f\"  Drum {i}: {similarity}%\")\n"
   ]
  },
  {
   "cell_type": "code",
   "execution_count": 13,
   "id": "383f1792-0f40-45ab-acb2-4008c6a66007",
   "metadata": {},
   "outputs": [
    {
     "data": {
      "image/png": "[encoded data removed]",
      "text/plain": [
       "<Figure size 640x480 with 1 Axes>"
      ]
     },
     "metadata": {},
     "output_type": "display_data"
    }
   ],
   "source": [
    "# Visualize a generated drum pattern\n",
    "import matplotlib.pyplot as plt\n",
    "plt.imshow(generated_sequence[0].T, cmap='binary', aspect='auto')\n",
    "plt.xlabel('Time Steps')\n",
    "plt.ylabel('Drum Hits')\n",
    "plt.show()\n"
   ]
  },
  {
   "cell_type": "code",
   "execution_count": 14,
   "id": "e58b924c-c7c8-4ed2-a308-d2a2debdee29",
   "metadata": {},
   "outputs": [
    {
     "name": "stdout",
     "output_type": "stream",
     "text": [
      "7/7 [==============================] - 0s 28ms/step - loss: 8.0929e-05 - accuracy: 0.5161 - precision: 1.0000 - recall: 0.6739\n",
      "Test Loss: 0.0001\n",
      "Test Accuracy: 0.52\n",
      "Test Precision: 1.00\n",
      "Test Recall: 0.52\n"
     ]
    }
   ],
   "source": [
    "# Evaluate on a test set\n",
    "evaluation_results = model.evaluate(X_val, y_val)\n",
    "test_loss = evaluation_results[0]  # Loss is always the first value\n",
    "test_acc = evaluation_results[1]  # Accuracy is the second value (if defined in metrics)\n",
    "test_prec = evaluation_results[2]\n",
    "test_recall = evaluation_results[3]\n",
    "\n",
    "print(f\"Test Loss: {test_loss:.4f}\")\n",
    "print(f\"Test Accuracy: {test_acc:.2f}\")\n",
    "print(f\"Test Precision: {test_prec:.2f}\")\n",
    "print(f\"Test Recall: {test_acc:.2f}\")\n"
   ]
  },
  {
   "cell_type": "code",
   "execution_count": 26,
   "id": "832094c5",
   "metadata": {},
   "outputs": [],
   "source": [
    "L1 = generated_sequence[0][:64]\n",
    "L2 = generated_sequence[0][64:]\n",
    "\n",
    "L_repeat = [L1, L1, L1]\n",
    "repeated_array = np.tile(L1, (3, 1))\n",
    "combined_array = np.concatenate([repeated_array, L2], axis=0)\n",
    "\n",
    "generated_sequence_all = combined_array"
   ]
  },
  {
   "cell_type": "code",
   "execution_count": 27,
   "id": "fd6ba830-a51c-4f19-a2e2-c623daf59612",
   "metadata": {},
   "outputs": [],
   "source": [
    "import pretty_midi\n",
    "\n",
    "\n",
    "def rnn_to_midi(rnn_sequence, output_file, tempo=120, steps_per_quarter=4):\n",
    "    \"\"\"\n",
    "    Converts a binary RNN sequence to a MIDI file.\n",
    "\n",
    "    Args:\n",
    "    - rnn_sequence (numpy array): Binary array of shape (sequence_length, num_drums).\n",
    "                                  Each row is a timestep, each column is a drum hit (1=hit, 0=no hit).\n",
    "    - output_file (str): Path to save the output MIDI file.\n",
    "    - tempo (int): Tempo of the generated MIDI in BPM.\n",
    "    - steps_per_quarter (int): Number of subdivisions per quarter note.\n",
    "    \"\"\"\n",
    "    # Map drum types to MIDI pitches\n",
    "    drum_mapping = [36, 38, 42]  # Kick (36), Snare (38), Hi-Hat (42)\n",
    "\n",
    "    # Ensure dimensions match\n",
    "    if rnn_sequence.shape[1] != len(drum_mapping):\n",
    "        print(f\"Adjusting rnn_sequence to match drum_mapping size: {len(drum_mapping)}\")\n",
    "        rnn_sequence = rnn_sequence[:, :len(drum_mapping)]\n",
    "\n",
    "    # Create a PrettyMIDI object\n",
    "    pm = pretty_midi.PrettyMIDI(resolution=960, initial_tempo=tempo)\n",
    "    drum_instrument = pretty_midi.Instrument(program=0, is_drum=True)\n",
    "\n",
    "    # Calculate duration of each step\n",
    "    beats_per_minute = tempo\n",
    "    seconds_per_beat = 60.0 / beats_per_minute\n",
    "    seconds_per_step = seconds_per_beat / steps_per_quarter  # Each step duration\n",
    "\n",
    "    # Convert the RNN sequence to MIDI notes\n",
    "    for step_idx, step in enumerate(rnn_sequence):\n",
    "        start_time = step_idx * seconds_per_step\n",
    "        end_time = start_time + seconds_per_step\n",
    "        for drum_idx, hit in enumerate(step):\n",
    "            if np.any(hit):  # Check if the drum is hit\n",
    "                note = pretty_midi.Note(\n",
    "                    velocity=100,  # Adjust the intensity of the hit\n",
    "                    pitch=drum_mapping[drum_idx],  # Map to corresponding MIDI pitch\n",
    "                    start=start_time,\n",
    "                    end=end_time\n",
    "                )\n",
    "                drum_instrument.notes.append(note)\n",
    "\n",
    "    # Add the drum instrument to the MIDI object\n",
    "    pm.instruments.append(drum_instrument)\n",
    "\n",
    "    # Write the MIDI file\n",
    "    pm.write(output_file)\n",
    "    print(f\"MIDI file saved to {output_file}\")\n"
   ]
  },
  {
   "cell_type": "code",
   "execution_count": 30,
   "id": "bcad33b0-3885-4c0b-a728-a9006401e2ef",
   "metadata": {},
   "outputs": [
    {
     "name": "stdout",
     "output_type": "stream",
     "text": [
      "Generated Sequence Length: 256\n",
      "MIDI file saved to rnn_generated_drums.mid\n"
     ]
    }
   ],
   "source": [
    "# Verify sequence length\n",
    "print(\"Generated Sequence Length:\", generated_sequence_all.shape[0])\n",
    "\n",
    "# Adjust the number of steps per quarter note\n",
    "steps_per_quarter = 4  # Ensure this matches the MIDI resolution\n",
    "\n",
    "# Save the sequence as a MIDI file\n",
    "rnn_to_midi(generated_sequence_all, \"rnn_generated_drums.mid\", tempo=120, steps_per_quarter=steps_per_quarter)\n"
   ]
  },
  {
   "cell_type": "code",
   "execution_count": null,
   "id": "6634026d-c65e-41a1-a6d7-250d3cfb9c94",
   "metadata": {},
   "outputs": [],
   "source": []
  },
  {
   "cell_type": "code",
   "execution_count": null,
   "id": "f0e2d532-84ff-4970-a229-83a7c8b5f0c0",
   "metadata": {},
   "outputs": [],
   "source": []
  }
 ],
 "metadata": {
  "kernelspec": {
   "display_name": "Tensorflow2",
   "language": "python",
   "name": "tf2"
  },
  "language_info": {
   "codemirror_mode": {
    "name": "ipython",
    "version": 3
   },
   "file_extension": ".py",
   "mimetype": "text/x-python",
   "name": "python",
   "nbconvert_exporter": "python",
   "pygments_lexer": "ipython3",
   "version": "3.8.18"
  }
 },
 "nbformat": 4,
 "nbformat_minor": 5
}
